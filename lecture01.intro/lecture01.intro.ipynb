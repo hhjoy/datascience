{
 "cells": [
  {
   "cell_type": "markdown",
   "metadata": {},
   "source": [
    "# Lecture 01 : intro, inputs, numpy, pandas"
   ]
  },
  {
   "cell_type": "code",
   "execution_count": null,
   "metadata": {
    "collapsed": true
   },
   "outputs": [],
   "source": []
  },
  {
   "cell_type": "markdown",
   "metadata": {},
   "source": [
    "### Input from API\n",
    "\n",
    "- Twitter Streaming: https://dev/twitter.com/streaming/overview\n",
    "- API client: https://github.com/tweepy/tweepy\n",
    "- Twitter app: https://apps.twitter.com\n",
    "- Instagram: https://www.instagram.com/developer/sandbox/\n"
   ]
  },
  {
   "cell_type": "code",
   "execution_count": 2,
   "metadata": {
    "collapsed": false
   },
   "outputs": [
    {
     "data": {
      "text/plain": [
       "['../cfg/sample.cfg']"
      ]
     },
     "execution_count": 2,
     "metadata": {},
     "output_type": "execute_result"
    }
   ],
   "source": [
    "from ConfigParser import ConfigParser\n",
    "config = ConfigParser()\n",
    "config.read('../cfg/sample.cfg')"
   ]
  },
  {
   "cell_type": "code",
   "execution_count": 3,
   "metadata": {
    "collapsed": false
   },
   "outputs": [
    {
     "data": {
      "text/plain": [
       "['twitter']"
      ]
     },
     "execution_count": 3,
     "metadata": {},
     "output_type": "execute_result"
    }
   ],
   "source": [
    "config.sections()"
   ]
  },
  {
   "cell_type": "markdown",
   "metadata": {},
   "source": [
    "#### Create an authentication handler"
   ]
  },
  {
   "cell_type": "code",
   "execution_count": 8,
   "metadata": {
    "collapsed": false
   },
   "outputs": [
    {
     "data": {
      "text/plain": [
       "<tweepy.auth.OAuthHandler at 0x103e2da90>"
      ]
     },
     "execution_count": 8,
     "metadata": {},
     "output_type": "execute_result"
    }
   ],
   "source": [
    "import tweepy\n",
    "auth = tweepy.OAuthHandler(config.get('twitter', 'consumer_key'), config.get('twitter', 'consumer_secret'))\n",
    "auth.set_access_token(config.get('twitter','access_token'), config.get('twitter','access_token_secret'))\n",
    "auth"
   ]
  },
  {
   "cell_type": "markdown",
   "metadata": {},
   "source": [
    "#### Create an API endpoint"
   ]
  },
  {
   "cell_type": "code",
   "execution_count": 9,
   "metadata": {
    "collapsed": true
   },
   "outputs": [],
   "source": [
    "api = tweepy.API(auth)"
   ]
  },
  {
   "cell_type": "markdown",
   "metadata": {},
   "source": [
    "#### Try REST-ful API call to Twitter"
   ]
  },
  {
   "cell_type": "code",
   "execution_count": 10,
   "metadata": {
    "collapsed": true
   },
   "outputs": [],
   "source": [
    "python_tweets = api.search('python')"
   ]
  },
  {
   "cell_type": "code",
   "execution_count": 11,
   "metadata": {
    "collapsed": false
   },
   "outputs": [
    {
     "name": "stdout",
     "output_type": "stream",
     "text": [
      "Python planner vancouver fully boosting your bearings: DVwMrPSD https://t.co/b8CL9hY6UP\n",
      "95% off Learning Python for Data Analysis and Visualization =&gt; https://t.co/341PAo4U4F ... #udemy #dataviz https://t.co/q6jK3rqc9i\n",
      "Algorithms &amp; Data Structures In Python here  https://t.co/Hx8lQwLcEa #python #programming @pythonbot_\n",
      "py2cytoscape 0.6.0 released: https://t.co/8eiEPT6dg7\n",
      "\n",
      "Sample Jupyter notebook for new features: https://t.co/gFce3NiCL7\n",
      "RT @WesTolbert: I liked a @YouTube video https://t.co/UbxcJuciTs Python and R Together at Last: Writing Cross Language Tools | SciPy 2016 |…\n",
      "Automation Tester With Perl Or Python Exp In Waltham Ma Jobs in Chicago, IL #Chicago #IL #jobs #jobsearch https://t.co/6ONjjuZWnn\n",
      "Once upon a time, Python the experimental difficult language set sail for adventures. Python went home.\n",
      "Print a string as hex bytes? #python #string #hex #ordinal-indicator https://t.co/W3qhjN26jO\n",
      "#Womens #Cowboy Womens Blue Short Ankle Boots | Western Cowboy Rhinestones Pink, Python Snip Toe https://t.co/7VEwxBHtpu #Western #Boots\n",
      "RT @blackgayvideo: Python dickin down Rocky in \"Nasty Ass Big Dick Fuck'n\" Nasty Ass Big Dick Fuck'n @videoboyblog #dawgPoundUSA https://t.…\n",
      "おまえはこれまで戦場で何人の人間を殺したか覚えているか、スネーク？　俺は覚えている。　奴らは毎晩のように俺の夢に出てきて俺を責める\n",
      "@gail_jimgail Just another coil tightening, by the great @auspost python squeeze!\n",
      "RT @red_suraj: Python and Robot Framework - Beyond the obvious.. by Bala Kumaran, click here https://t.co/cIjtA9vdRS to vote:\n",
      " @pyconindia\n",
      "RT @red_suraj: Data Collection Using Raspberry Pi 3.0 and sensors using .. by Annapoornima Koppad, click here https://t.co/dC2PC7Hs91 to vo…\n"
     ]
    }
   ],
   "source": [
    "for tweet in python_tweets:\n",
    "    print(tweet.text)"
   ]
  },
  {
   "cell_type": "markdown",
   "metadata": {},
   "source": [
    "#### For streaming API call, we should run a standalone python program: tweetering.py"
   ]
  },
  {
   "cell_type": "code",
   "execution_count": null,
   "metadata": {
    "collapsed": true
   },
   "outputs": [],
   "source": []
  }
 ],
 "metadata": {
  "kernelspec": {
   "display_name": "Python 2",
   "language": "python",
   "name": "python2"
  },
  "language_info": {
   "codemirror_mode": {
    "name": "ipython",
    "version": 2
   },
   "file_extension": ".py",
   "mimetype": "text/x-python",
   "name": "python",
   "nbconvert_exporter": "python",
   "pygments_lexer": "ipython2",
   "version": "2.7.11"
  }
 },
 "nbformat": 4,
 "nbformat_minor": 0
}
