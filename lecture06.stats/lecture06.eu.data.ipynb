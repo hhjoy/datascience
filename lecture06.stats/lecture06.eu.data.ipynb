{
 "cells": [
  {
   "cell_type": "markdown",
   "metadata": {},
   "source": [
    "# Data Import, Merge, Wrangle\n",
    "\n",
    "We will be using the real dataset for extra-EU trade percentages for a few different years to illutrate the real-world usage of data import, cleanse, merge and wrangle.\n"
   ]
  },
  {
   "cell_type": "code",
   "execution_count": 1,
   "metadata": {
    "collapsed": true
   },
   "outputs": [],
   "source": [
    "import pandas as pd"
   ]
  },
  {
   "cell_type": "code",
   "execution_count": 2,
   "metadata": {
    "collapsed": true
   },
   "outputs": [],
   "source": [
    "df = pd.DataFrame()"
   ]
  },
  {
   "cell_type": "code",
   "execution_count": 3,
   "metadata": {
    "collapsed": false
   },
   "outputs": [
    {
     "data": {
      "text/html": [
       "<div>\n",
       "<table border=\"1\" class=\"dataframe\">\n",
       "  <thead>\n",
       "    <tr style=\"text-align: right;\">\n",
       "      <th></th>\n",
       "    </tr>\n",
       "  </thead>\n",
       "  <tbody>\n",
       "  </tbody>\n",
       "</table>\n",
       "</div>"
      ],
      "text/plain": [
       "Empty DataFrame\n",
       "Columns: []\n",
       "Index: []"
      ]
     },
     "execution_count": 3,
     "metadata": {},
     "output_type": "execute_result"
    }
   ],
   "source": [
    "df"
   ]
  },
  {
   "cell_type": "markdown",
   "metadata": {},
   "source": [
    "### Concatenating datasets\n",
    "\n",
    "Let's incrementally read in the EU trade dataset"
   ]
  },
  {
   "cell_type": "code",
   "execution_count": 4,
   "metadata": {
    "collapsed": false
   },
   "outputs": [
    {
     "data": {
      "text/html": [
       "<div>\n",
       "<table border=\"1\" class=\"dataframe\">\n",
       "  <thead>\n",
       "    <tr style=\"text-align: right;\">\n",
       "      <th></th>\n",
       "      <th>partner,currency,stk_flow,sitc06,geo\\time</th>\n",
       "      <th>2014</th>\n",
       "      <th>2012</th>\n",
       "      <th>2010</th>\n",
       "    </tr>\n",
       "  </thead>\n",
       "  <tbody>\n",
       "    <tr>\n",
       "      <th>0</th>\n",
       "      <td>EXT_EU,EUR,EXP,SITC0-4A,AT</td>\n",
       "      <td>61.9</td>\n",
       "      <td>65.6</td>\n",
       "      <td>67</td>\n",
       "    </tr>\n",
       "    <tr>\n",
       "      <th>1</th>\n",
       "      <td>EXT_EU,EUR,EXP,SITC0-4A,BE</td>\n",
       "      <td>53.8</td>\n",
       "      <td>85.8</td>\n",
       "      <td>92.4</td>\n",
       "    </tr>\n",
       "    <tr>\n",
       "      <th>2</th>\n",
       "      <td>EXT_EU,EUR,EXP,SITC0-4A,BG</td>\n",
       "      <td>57.0</td>\n",
       "      <td>46.2</td>\n",
       "      <td>54.1</td>\n",
       "    </tr>\n",
       "  </tbody>\n",
       "</table>\n",
       "</div>"
      ],
      "text/plain": [
       "  partner,currency,stk_flow,sitc06,geo\\time  2014   2012   2010 \n",
       "0                EXT_EU,EUR,EXP,SITC0-4A,AT   61.9  65.6     67 \n",
       "1                EXT_EU,EUR,EXP,SITC0-4A,BE   53.8  85.8   92.4 \n",
       "2                EXT_EU,EUR,EXP,SITC0-4A,BG   57.0  46.2   54.1 "
      ]
     },
     "execution_count": 4,
     "metadata": {},
     "output_type": "execute_result"
    }
   ],
   "source": [
    "for chunk in pd.read_csv('data/ext_lt_invcur.tsv', sep='\\t', chunksize=100):\n",
    "    df = pd.concat([df, chunk])\n",
    "\n",
    "df.head(3)"
   ]
  },
  {
   "cell_type": "markdown",
   "metadata": {},
   "source": [
    "\n",
    "### Transforming a column \n",
    "\n",
    "Let's preprocess this dataset to split out the 1st column into more manageable pieces."
   ]
  },
  {
   "cell_type": "code",
   "execution_count": 8,
   "metadata": {
    "collapsed": false
   },
   "outputs": [
    {
     "name": "stdout",
     "output_type": "stream",
     "text": [
      "([['EXT_EU', 'EUR', 'EXP', 'SITC0-4A', 'AT'], ['EXT_EU', 'EUR', 'EXP', 'SITC0-4A', 'BE']], ['partner', 'currency', 'stk_flow', 'sitc06', 'geo\\\\time'])\n"
     ]
    }
   ],
   "source": [
    "df = pd.DataFrame()\n",
    "\n",
    "# let's figure out how to split out the 1st column's values\n",
    "for chunk in pd.read_csv('data/ext_lt_invcur.tsv', sep='\\t', chunksize=100):\n",
    "    data_rows = [row for row in chunk.ix[:,0].str.split(',')]\n",
    "    data_cols = chunk.columns[0].split(',')\n",
    "    print(data_rows[:2], data_cols)\n",
    "    break; \n",
    "    df = pd.concat([df, chunk])"
   ]
  },
  {
   "cell_type": "markdown",
   "metadata": {},
   "source": [
    "Looks like we are getting the right value split.  However, the last column name split looks odd."
   ]
  },
  {
   "cell_type": "code",
   "execution_count": 9,
   "metadata": {
    "collapsed": false
   },
   "outputs": [
    {
     "name": "stdout",
     "output_type": "stream",
     "text": [
      "([['EXT_EU', 'EUR', 'EXP', 'SITC0-4A', 'AT'], ['EXT_EU', 'EUR', 'EXP', 'SITC0-4A', 'BE']], ['partner', 'currency', 'stk_flow', 'sitc06', 'geo'])\n"
     ]
    }
   ],
   "source": [
    "df = pd.DataFrame()\n",
    "for chunk in pd.read_csv('data/ext_lt_invcur.tsv', sep='\\t', chunksize=100):\n",
    "    data_rows = [row for row in chunk.ix[:,0].str.split(',')]\n",
    "    # create a column split list generator\n",
    "    data_cols = [col.split('\\\\')[0] for col in chunk.columns[0].split(',')]\n",
    "    print(data_rows[:2], data_cols)\n",
    "    break; \n",
    "    df = pd.concat([df, chunk])"
   ]
  },
  {
   "cell_type": "markdown",
   "metadata": {},
   "source": [
    "The last column name is now called \"geo\" -- simple and elegant.\n",
    "\n",
    "Now, we need to merge the list of lists to create the cleaned dataframe:"
   ]
  },
  {
   "cell_type": "code",
   "execution_count": 10,
   "metadata": {
    "collapsed": false
   },
   "outputs": [
    {
     "name": "stdout",
     "output_type": "stream",
     "text": [
      "   partner currency stk_flow    sitc06 geo  \\\n",
      "0   EXT_EU      EUR      EXP  SITC0-4A  AT   \n",
      "1   EXT_EU      EUR      EXP  SITC0-4A  BE   \n",
      "2   EXT_EU      EUR      EXP  SITC0-4A  BG   \n",
      "3   EXT_EU      EUR      EXP  SITC0-4A  CY   \n",
      "4   EXT_EU      EUR      EXP  SITC0-4A  CZ   \n",
      "5   EXT_EU      EUR      EXP  SITC0-4A  DE   \n",
      "6   EXT_EU      EUR      EXP  SITC0-4A  DK   \n",
      "7   EXT_EU      EUR      EXP  SITC0-4A  EA   \n",
      "8   EXT_EU      EUR      EXP  SITC0-4A  EE   \n",
      "9   EXT_EU      EUR      EXP  SITC0-4A  EL   \n",
      "10  EXT_EU      EUR      EXP  SITC0-4A  ES   \n",
      "11  EXT_EU      EUR      EXP  SITC0-4A  EU   \n",
      "12  EXT_EU      EUR      EXP  SITC0-4A  FI   \n",
      "13  EXT_EU      EUR      EXP  SITC0-4A  FR   \n",
      "14  EXT_EU      EUR      EXP  SITC0-4A  HR   \n",
      "15  EXT_EU      EUR      EXP  SITC0-4A  HU   \n",
      "16  EXT_EU      EUR      EXP  SITC0-4A  IE   \n",
      "17  EXT_EU      EUR      EXP  SITC0-4A  IT   \n",
      "18  EXT_EU      EUR      EXP  SITC0-4A  LT   \n",
      "19  EXT_EU      EUR      EXP  SITC0-4A  LU   \n",
      "20  EXT_EU      EUR      EXP  SITC0-4A  LV   \n",
      "21  EXT_EU      EUR      EXP  SITC0-4A  MT   \n",
      "22  EXT_EU      EUR      EXP  SITC0-4A  NL   \n",
      "23  EXT_EU      EUR      EXP  SITC0-4A  PL   \n",
      "24  EXT_EU      EUR      EXP  SITC0-4A  PT   \n",
      "25  EXT_EU      EUR      EXP  SITC0-4A  RO   \n",
      "26  EXT_EU      EUR      EXP  SITC0-4A  SE   \n",
      "27  EXT_EU      EUR      EXP  SITC0-4A  SI   \n",
      "28  EXT_EU      EUR      EXP  SITC0-4A  SK   \n",
      "29  EXT_EU      EUR      EXP  SITC0-4A  UK   \n",
      "..     ...      ...      ...       ...  ..   \n",
      "70  EXT_EU      EUR      EXP   SITC5-8  ES   \n",
      "71  EXT_EU      EUR      EXP   SITC5-8  EU   \n",
      "72  EXT_EU      EUR      EXP   SITC5-8  FI   \n",
      "73  EXT_EU      EUR      EXP   SITC5-8  FR   \n",
      "74  EXT_EU      EUR      EXP   SITC5-8  HR   \n",
      "75  EXT_EU      EUR      EXP   SITC5-8  HU   \n",
      "76  EXT_EU      EUR      EXP   SITC5-8  IE   \n",
      "77  EXT_EU      EUR      EXP   SITC5-8  IT   \n",
      "78  EXT_EU      EUR      EXP   SITC5-8  LT   \n",
      "79  EXT_EU      EUR      EXP   SITC5-8  LU   \n",
      "80  EXT_EU      EUR      EXP   SITC5-8  LV   \n",
      "81  EXT_EU      EUR      EXP   SITC5-8  MT   \n",
      "82  EXT_EU      EUR      EXP   SITC5-8  NL   \n",
      "83  EXT_EU      EUR      EXP   SITC5-8  PL   \n",
      "84  EXT_EU      EUR      EXP   SITC5-8  PT   \n",
      "85  EXT_EU      EUR      EXP   SITC5-8  RO   \n",
      "86  EXT_EU      EUR      EXP   SITC5-8  SE   \n",
      "87  EXT_EU      EUR      EXP   SITC5-8  SI   \n",
      "88  EXT_EU      EUR      EXP   SITC5-8  SK   \n",
      "89  EXT_EU      EUR      EXP   SITC5-8  UK   \n",
      "90  EXT_EU      EUR      EXP     TOTAL  AT   \n",
      "91  EXT_EU      EUR      EXP     TOTAL  BE   \n",
      "92  EXT_EU      EUR      EXP     TOTAL  BG   \n",
      "93  EXT_EU      EUR      EXP     TOTAL  CY   \n",
      "94  EXT_EU      EUR      EXP     TOTAL  CZ   \n",
      "95  EXT_EU      EUR      EXP     TOTAL  DE   \n",
      "96  EXT_EU      EUR      EXP     TOTAL  DK   \n",
      "97  EXT_EU      EUR      EXP     TOTAL  EA   \n",
      "98  EXT_EU      EUR      EXP     TOTAL  EE   \n",
      "99  EXT_EU      EUR      EXP     TOTAL  EL   \n",
      "\n",
      "   partner,currency,stk_flow,sitc06,geo\\time  2014   2012   2010   \n",
      "0                 EXT_EU,EUR,EXP,SITC0-4A,AT   61.9  65.6     67   \n",
      "1                 EXT_EU,EUR,EXP,SITC0-4A,BE   53.8  85.8   92.4   \n",
      "2                 EXT_EU,EUR,EXP,SITC0-4A,BG   57.0  46.2   54.1   \n",
      "3                 EXT_EU,EUR,EXP,SITC0-4A,CY   79.1  60.7   61.4   \n",
      "4                 EXT_EU,EUR,EXP,SITC0-4A,CZ   58.3  66.7   59.1   \n",
      "5                 EXT_EU,EUR,EXP,SITC0-4A,DE   62.5  61.5   65.9   \n",
      "6                 EXT_EU,EUR,EXP,SITC0-4A,DK   12.8    14   12.2   \n",
      "7                 EXT_EU,EUR,EXP,SITC0-4A,EA   60.7  65.4   64.1   \n",
      "8                 EXT_EU,EUR,EXP,SITC0-4A,EE   67.9  62.8   51.8   \n",
      "9                 EXT_EU,EUR,EXP,SITC0-4A,EL   60.3  58.4     59   \n",
      "10                EXT_EU,EUR,EXP,SITC0-4A,ES   61.8  63.7   75.6   \n",
      "11                EXT_EU,EUR,EXP,SITC0-4A,EU   50.1  53.5   53.2   \n",
      "12                EXT_EU,EUR,EXP,SITC0-4A,FI   42.4  40.7   47.7   \n",
      "13                EXT_EU,EUR,EXP,SITC0-4A,FR   63.8  62.3   58.4   \n",
      "14                EXT_EU,EUR,EXP,SITC0-4A,HR   77.3     :      :   \n",
      "15                EXT_EU,EUR,EXP,SITC0-4A,HU   45.4  45.5   67.8   \n",
      "16                EXT_EU,EUR,EXP,SITC0-4A,IE   45.1  38.9   36.8   \n",
      "17                EXT_EU,EUR,EXP,SITC0-4A,IT   73.1  73.1   70.6   \n",
      "18                EXT_EU,EUR,EXP,SITC0-4A,LT   75.8  79.4   70.9   \n",
      "19                EXT_EU,EUR,EXP,SITC0-4A,LU   99.0  96.6   94.8   \n",
      "20                EXT_EU,EUR,EXP,SITC0-4A,LV   56.4  49.7   59.5   \n",
      "21                EXT_EU,EUR,EXP,SITC0-4A,MT   13.6  34.2    8.7   \n",
      "22                EXT_EU,EUR,EXP,SITC0-4A,NL   52.4  53.8   53.1   \n",
      "23                EXT_EU,EUR,EXP,SITC0-4A,PL    0.0     0    0.5   \n",
      "24                EXT_EU,EUR,EXP,SITC0-4A,PT   72.8  72.8     78   \n",
      "25                EXT_EU,EUR,EXP,SITC0-4A,RO   45.3  43.4   38.1   \n",
      "26                EXT_EU,EUR,EXP,SITC0-4A,SE   17.4  14.8   27.4   \n",
      "27                EXT_EU,EUR,EXP,SITC0-4A,SI   85.7  92.1   91.2   \n",
      "28                EXT_EU,EUR,EXP,SITC0-4A,SK   93.4  96.5   93.6   \n",
      "29                EXT_EU,EUR,EXP,SITC0-4A,UK    4.6   3.1    3.2   \n",
      "..                                       ...    ...    ...    ...  \n",
      "70                 EXT_EU,EUR,EXP,SITC5-8,ES   71.9  71.4   74.8   \n",
      "71                 EXT_EU,EUR,EXP,SITC5-8,EU   51.0  51.8   52.8   \n",
      "72                 EXT_EU,EUR,EXP,SITC5-8,FI   65.8  54.9   49.7   \n",
      "73                 EXT_EU,EUR,EXP,SITC5-8,FR   52.3    53     53   \n",
      "74                 EXT_EU,EUR,EXP,SITC5-8,HR   69.8     :      :   \n",
      "75                 EXT_EU,EUR,EXP,SITC5-8,HU   51.9  45.1   46.6   \n",
      "76                 EXT_EU,EUR,EXP,SITC5-8,IE   11.4   9.1    9.5   \n",
      "77                 EXT_EU,EUR,EXP,SITC5-8,IT   75.7  75.9   76.6   \n",
      "78                 EXT_EU,EUR,EXP,SITC5-8,LT   66.6  58.7   56.5   \n",
      "79                 EXT_EU,EUR,EXP,SITC5-8,LU   58.3  76.1   69.6   \n",
      "80                 EXT_EU,EUR,EXP,SITC5-8,LV   70.9  70.9   71.6   \n",
      "81                 EXT_EU,EUR,EXP,SITC5-8,MT   23.7  27.3   22.3   \n",
      "82                 EXT_EU,EUR,EXP,SITC5-8,NL   52.6  51.6   55.7   \n",
      "83                 EXT_EU,EUR,EXP,SITC5-8,PL    0.0     0    0.3   \n",
      "84                 EXT_EU,EUR,EXP,SITC5-8,PT   70.6  72.5   74.3   \n",
      "85                 EXT_EU,EUR,EXP,SITC5-8,RO   64.0  64.4   63.5   \n",
      "86                 EXT_EU,EUR,EXP,SITC5-8,SE   22.0  24.8   22.8   \n",
      "87                 EXT_EU,EUR,EXP,SITC5-8,SI   78.1  82.3   85.2   \n",
      "88                 EXT_EU,EUR,EXP,SITC5-8,SK   82.6    88     81   \n",
      "89                 EXT_EU,EUR,EXP,SITC5-8,UK    4.1   4.1    4.1   \n",
      "90                   EXT_EU,EUR,EXP,TOTAL,AT   71.7  73.6   74.4   \n",
      "91                   EXT_EU,EUR,EXP,TOTAL,BE   41.4  50.9   51.6   \n",
      "92                   EXT_EU,EUR,EXP,TOTAL,BG   41.7  36.7   43.2   \n",
      "93                   EXT_EU,EUR,EXP,TOTAL,CY   67.4  57.2   63.5   \n",
      "94                   EXT_EU,EUR,EXP,TOTAL,CZ   49.5  50.5   50.5   \n",
      "95                   EXT_EU,EUR,EXP,TOTAL,DE   61.8  64.6   66.6   \n",
      "96                   EXT_EU,EUR,EXP,TOTAL,DK   22.7  22.3   22.8   \n",
      "97                   EXT_EU,EUR,EXP,TOTAL,EA   58.7  60.3   60.4   \n",
      "98                   EXT_EU,EUR,EXP,TOTAL,EE   63.0  53.8   44.1   \n",
      "99                   EXT_EU,EUR,EXP,TOTAL,EL   32.9  36.6   44.8   \n",
      "\n",
      "[100 rows x 9 columns]\n"
     ]
    }
   ],
   "source": [
    "df = pd.DataFrame()\n",
    "for chunk in pd.read_csv('data/ext_lt_invcur.tsv', sep='\\t', chunksize=100):\n",
    "    data_rows = [row for row in chunk.ix[:,0].str.split(',')]\n",
    "    # create a column split list generator\n",
    "    data_cols = [col.split('\\\\')[0] for col in chunk.columns[0].split(',')]\n",
    "    clean_df = pd.DataFrame(data_rows, columns=data_cols)\n",
    "    \n",
    "    # now we can concat by \"column\" which means axis=1\n",
    "    new_df = pd.concat([clean_df, chunk], axis=1)\n",
    "    print(new_df)\n",
    "    break; \n",
    "    df = pd.concat([df, chunk])"
   ]
  },
  {
   "cell_type": "markdown",
   "metadata": {},
   "source": [
    "We notice that we still have our own column[0] around -- let's drop it to clean up the DF."
   ]
  },
  {
   "cell_type": "code",
   "execution_count": 12,
   "metadata": {
    "collapsed": false
   },
   "outputs": [
    {
     "name": "stdout",
     "output_type": "stream",
     "text": [
      "   partner currency stk_flow    sitc06 geo  2014   2012   2010 \n",
      "0   EXT_EU      EUR      EXP  SITC0-4A  AT   61.9  65.6     67 \n",
      "1   EXT_EU      EUR      EXP  SITC0-4A  BE   53.8  85.8   92.4 \n",
      "2   EXT_EU      EUR      EXP  SITC0-4A  BG   57.0  46.2   54.1 \n",
      "3   EXT_EU      EUR      EXP  SITC0-4A  CY   79.1  60.7   61.4 \n",
      "4   EXT_EU      EUR      EXP  SITC0-4A  CZ   58.3  66.7   59.1 \n",
      "5   EXT_EU      EUR      EXP  SITC0-4A  DE   62.5  61.5   65.9 \n",
      "6   EXT_EU      EUR      EXP  SITC0-4A  DK   12.8    14   12.2 \n",
      "7   EXT_EU      EUR      EXP  SITC0-4A  EA   60.7  65.4   64.1 \n",
      "8   EXT_EU      EUR      EXP  SITC0-4A  EE   67.9  62.8   51.8 \n",
      "9   EXT_EU      EUR      EXP  SITC0-4A  EL   60.3  58.4     59 \n",
      "10  EXT_EU      EUR      EXP  SITC0-4A  ES   61.8  63.7   75.6 \n",
      "11  EXT_EU      EUR      EXP  SITC0-4A  EU   50.1  53.5   53.2 \n",
      "12  EXT_EU      EUR      EXP  SITC0-4A  FI   42.4  40.7   47.7 \n",
      "13  EXT_EU      EUR      EXP  SITC0-4A  FR   63.8  62.3   58.4 \n",
      "14  EXT_EU      EUR      EXP  SITC0-4A  HR   77.3     :      : \n",
      "15  EXT_EU      EUR      EXP  SITC0-4A  HU   45.4  45.5   67.8 \n",
      "16  EXT_EU      EUR      EXP  SITC0-4A  IE   45.1  38.9   36.8 \n",
      "17  EXT_EU      EUR      EXP  SITC0-4A  IT   73.1  73.1   70.6 \n",
      "18  EXT_EU      EUR      EXP  SITC0-4A  LT   75.8  79.4   70.9 \n",
      "19  EXT_EU      EUR      EXP  SITC0-4A  LU   99.0  96.6   94.8 \n",
      "20  EXT_EU      EUR      EXP  SITC0-4A  LV   56.4  49.7   59.5 \n",
      "21  EXT_EU      EUR      EXP  SITC0-4A  MT   13.6  34.2    8.7 \n",
      "22  EXT_EU      EUR      EXP  SITC0-4A  NL   52.4  53.8   53.1 \n",
      "23  EXT_EU      EUR      EXP  SITC0-4A  PL    0.0     0    0.5 \n",
      "24  EXT_EU      EUR      EXP  SITC0-4A  PT   72.8  72.8     78 \n",
      "25  EXT_EU      EUR      EXP  SITC0-4A  RO   45.3  43.4   38.1 \n",
      "26  EXT_EU      EUR      EXP  SITC0-4A  SE   17.4  14.8   27.4 \n",
      "27  EXT_EU      EUR      EXP  SITC0-4A  SI   85.7  92.1   91.2 \n",
      "28  EXT_EU      EUR      EXP  SITC0-4A  SK   93.4  96.5   93.6 \n",
      "29  EXT_EU      EUR      EXP  SITC0-4A  UK    4.6   3.1    3.2 \n",
      "..     ...      ...      ...       ...  ..    ...    ...    ...\n",
      "70  EXT_EU      EUR      EXP   SITC5-8  ES   71.9  71.4   74.8 \n",
      "71  EXT_EU      EUR      EXP   SITC5-8  EU   51.0  51.8   52.8 \n",
      "72  EXT_EU      EUR      EXP   SITC5-8  FI   65.8  54.9   49.7 \n",
      "73  EXT_EU      EUR      EXP   SITC5-8  FR   52.3    53     53 \n",
      "74  EXT_EU      EUR      EXP   SITC5-8  HR   69.8     :      : \n",
      "75  EXT_EU      EUR      EXP   SITC5-8  HU   51.9  45.1   46.6 \n",
      "76  EXT_EU      EUR      EXP   SITC5-8  IE   11.4   9.1    9.5 \n",
      "77  EXT_EU      EUR      EXP   SITC5-8  IT   75.7  75.9   76.6 \n",
      "78  EXT_EU      EUR      EXP   SITC5-8  LT   66.6  58.7   56.5 \n",
      "79  EXT_EU      EUR      EXP   SITC5-8  LU   58.3  76.1   69.6 \n",
      "80  EXT_EU      EUR      EXP   SITC5-8  LV   70.9  70.9   71.6 \n",
      "81  EXT_EU      EUR      EXP   SITC5-8  MT   23.7  27.3   22.3 \n",
      "82  EXT_EU      EUR      EXP   SITC5-8  NL   52.6  51.6   55.7 \n",
      "83  EXT_EU      EUR      EXP   SITC5-8  PL    0.0     0    0.3 \n",
      "84  EXT_EU      EUR      EXP   SITC5-8  PT   70.6  72.5   74.3 \n",
      "85  EXT_EU      EUR      EXP   SITC5-8  RO   64.0  64.4   63.5 \n",
      "86  EXT_EU      EUR      EXP   SITC5-8  SE   22.0  24.8   22.8 \n",
      "87  EXT_EU      EUR      EXP   SITC5-8  SI   78.1  82.3   85.2 \n",
      "88  EXT_EU      EUR      EXP   SITC5-8  SK   82.6    88     81 \n",
      "89  EXT_EU      EUR      EXP   SITC5-8  UK    4.1   4.1    4.1 \n",
      "90  EXT_EU      EUR      EXP     TOTAL  AT   71.7  73.6   74.4 \n",
      "91  EXT_EU      EUR      EXP     TOTAL  BE   41.4  50.9   51.6 \n",
      "92  EXT_EU      EUR      EXP     TOTAL  BG   41.7  36.7   43.2 \n",
      "93  EXT_EU      EUR      EXP     TOTAL  CY   67.4  57.2   63.5 \n",
      "94  EXT_EU      EUR      EXP     TOTAL  CZ   49.5  50.5   50.5 \n",
      "95  EXT_EU      EUR      EXP     TOTAL  DE   61.8  64.6   66.6 \n",
      "96  EXT_EU      EUR      EXP     TOTAL  DK   22.7  22.3   22.8 \n",
      "97  EXT_EU      EUR      EXP     TOTAL  EA   58.7  60.3   60.4 \n",
      "98  EXT_EU      EUR      EXP     TOTAL  EE   63.0  53.8   44.1 \n",
      "99  EXT_EU      EUR      EXP     TOTAL  EL   32.9  36.6   44.8 \n",
      "\n",
      "[100 rows x 8 columns]\n"
     ]
    }
   ],
   "source": [
    "df = pd.DataFrame()\n",
    "for chunk in pd.read_csv('data/ext_lt_invcur.tsv', sep='\\t', chunksize=100):\n",
    "    data_rows = [row for row in chunk.ix[:,0].str.split(',')]\n",
    "    # create a column split list generator\n",
    "    data_cols = [col.split('\\\\')[0] for col in chunk.columns[0].split(',')]\n",
    "    clean_df = pd.DataFrame(data_rows, columns=data_cols)\n",
    "    \n",
    "    # now we can concat by \"column\" which means axis=1\n",
    "    new_df = pd.concat([clean_df, \n",
    "                        chunk.drop(chunk.columns[0], axis=1)], axis=1)\n",
    "    print(new_df)\n",
    "    break; \n",
    "    df = pd.concat([df, chunk])"
   ]
  },
  {
   "cell_type": "markdown",
   "metadata": {},
   "source": [
    "This looks a lot **cleaner**! \n",
    "\n",
    "We are finally ready to run this for all input data:"
   ]
  },
  {
   "cell_type": "code",
   "execution_count": 30,
   "metadata": {
    "collapsed": false
   },
   "outputs": [
    {
     "data": {
      "text/html": [
       "<div>\n",
       "<table border=\"1\" class=\"dataframe\">\n",
       "  <thead>\n",
       "    <tr style=\"text-align: right;\">\n",
       "      <th></th>\n",
       "      <th>partner</th>\n",
       "      <th>currency</th>\n",
       "      <th>stk_flow</th>\n",
       "      <th>sitc06</th>\n",
       "      <th>geo</th>\n",
       "      <th>2014</th>\n",
       "      <th>2012</th>\n",
       "      <th>2010</th>\n",
       "    </tr>\n",
       "  </thead>\n",
       "  <tbody>\n",
       "    <tr>\n",
       "      <th>0</th>\n",
       "      <td>EXT_EU</td>\n",
       "      <td>EUR</td>\n",
       "      <td>EXP</td>\n",
       "      <td>SITC0-4A</td>\n",
       "      <td>AT</td>\n",
       "      <td>61.9</td>\n",
       "      <td>65.6</td>\n",
       "      <td>67</td>\n",
       "    </tr>\n",
       "    <tr>\n",
       "      <th>1</th>\n",
       "      <td>EXT_EU</td>\n",
       "      <td>EUR</td>\n",
       "      <td>EXP</td>\n",
       "      <td>SITC0-4A</td>\n",
       "      <td>BE</td>\n",
       "      <td>53.8</td>\n",
       "      <td>85.8</td>\n",
       "      <td>92.4</td>\n",
       "    </tr>\n",
       "    <tr>\n",
       "      <th>2</th>\n",
       "      <td>EXT_EU</td>\n",
       "      <td>EUR</td>\n",
       "      <td>EXP</td>\n",
       "      <td>SITC0-4A</td>\n",
       "      <td>BG</td>\n",
       "      <td>57.0</td>\n",
       "      <td>46.2</td>\n",
       "      <td>54.1</td>\n",
       "    </tr>\n",
       "  </tbody>\n",
       "</table>\n",
       "</div>"
      ],
      "text/plain": [
       "  partner currency stk_flow    sitc06 geo  2014   2012   2010 \n",
       "0  EXT_EU      EUR      EXP  SITC0-4A  AT   61.9  65.6     67 \n",
       "1  EXT_EU      EUR      EXP  SITC0-4A  BE   53.8  85.8   92.4 \n",
       "2  EXT_EU      EUR      EXP  SITC0-4A  BG   57.0  46.2   54.1 "
      ]
     },
     "execution_count": 30,
     "metadata": {},
     "output_type": "execute_result"
    }
   ],
   "source": [
    "df = pd.DataFrame()\n",
    "for chunk in pd.read_csv('data/ext_lt_invcur.tsv', sep='\\t', chunksize=100):\n",
    "    data_rows = [row for row in chunk.ix[:,0].str.split(',')]\n",
    "    # create a column split list generator\n",
    "    data_cols = [col.split('\\\\')[0] for col in chunk.columns[0].split(',')]\n",
    "    clean_df = pd.DataFrame(data_rows, columns=data_cols)\n",
    "    \n",
    "    # now we can concat by \"column\" which means axis=1\n",
    "    new_df = pd.concat([clean_df, \n",
    "                        chunk.drop(chunk.columns[0], axis=1)], axis=1)\n",
    "    df = pd.concat([df, new_df])\n",
    "    \n",
    "df.head(3)"
   ]
  },
  {
   "cell_type": "markdown",
   "metadata": {},
   "source": [
    "We have concat data both horizontally and vertically, and able to clean up the column name as well as transforming a messy column by splitting down its components."
   ]
  },
  {
   "cell_type": "code",
   "execution_count": 35,
   "metadata": {
    "collapsed": false
   },
   "outputs": [
    {
     "data": {
      "text/plain": [
       "(1320, 8)"
      ]
     },
     "execution_count": 35,
     "metadata": {},
     "output_type": "execute_result"
    }
   ],
   "source": [
    "df.shape"
   ]
  },
  {
   "cell_type": "code",
   "execution_count": 33,
   "metadata": {
    "collapsed": false
   },
   "outputs": [
    {
     "data": {
      "text/html": [
       "<div>\n",
       "<table border=\"1\" class=\"dataframe\">\n",
       "  <thead>\n",
       "    <tr style=\"text-align: right;\">\n",
       "      <th></th>\n",
       "      <th>partner</th>\n",
       "      <th>currency</th>\n",
       "      <th>stk_flow</th>\n",
       "      <th>sitc06</th>\n",
       "      <th>geo</th>\n",
       "      <th>2014</th>\n",
       "      <th>2012</th>\n",
       "      <th>2010</th>\n",
       "    </tr>\n",
       "  </thead>\n",
       "  <tbody>\n",
       "    <tr>\n",
       "      <th>count</th>\n",
       "      <td>1320</td>\n",
       "      <td>1320</td>\n",
       "      <td>1320</td>\n",
       "      <td>1320</td>\n",
       "      <td>1320</td>\n",
       "      <td>1320.000000</td>\n",
       "      <td>1320</td>\n",
       "      <td>1320</td>\n",
       "    </tr>\n",
       "    <tr>\n",
       "      <th>unique</th>\n",
       "      <td>2</td>\n",
       "      <td>5</td>\n",
       "      <td>2</td>\n",
       "      <td>4</td>\n",
       "      <td>33</td>\n",
       "      <td>NaN</td>\n",
       "      <td>518</td>\n",
       "      <td>471</td>\n",
       "    </tr>\n",
       "    <tr>\n",
       "      <th>top</th>\n",
       "      <td>EXT_EU</td>\n",
       "      <td>OTH</td>\n",
       "      <td>IMP</td>\n",
       "      <td>SITC5-8</td>\n",
       "      <td>UK</td>\n",
       "      <td>NaN</td>\n",
       "      <td>100</td>\n",
       "      <td>100</td>\n",
       "    </tr>\n",
       "    <tr>\n",
       "      <th>freq</th>\n",
       "      <td>1200</td>\n",
       "      <td>264</td>\n",
       "      <td>660</td>\n",
       "      <td>330</td>\n",
       "      <td>40</td>\n",
       "      <td>NaN</td>\n",
       "      <td>238</td>\n",
       "      <td>248</td>\n",
       "    </tr>\n",
       "    <tr>\n",
       "      <th>mean</th>\n",
       "      <td>NaN</td>\n",
       "      <td>NaN</td>\n",
       "      <td>NaN</td>\n",
       "      <td>NaN</td>\n",
       "      <td>NaN</td>\n",
       "      <td>39.998712</td>\n",
       "      <td>NaN</td>\n",
       "      <td>NaN</td>\n",
       "    </tr>\n",
       "    <tr>\n",
       "      <th>std</th>\n",
       "      <td>NaN</td>\n",
       "      <td>NaN</td>\n",
       "      <td>NaN</td>\n",
       "      <td>NaN</td>\n",
       "      <td>NaN</td>\n",
       "      <td>39.025858</td>\n",
       "      <td>NaN</td>\n",
       "      <td>NaN</td>\n",
       "    </tr>\n",
       "    <tr>\n",
       "      <th>min</th>\n",
       "      <td>NaN</td>\n",
       "      <td>NaN</td>\n",
       "      <td>NaN</td>\n",
       "      <td>NaN</td>\n",
       "      <td>NaN</td>\n",
       "      <td>0.000000</td>\n",
       "      <td>NaN</td>\n",
       "      <td>NaN</td>\n",
       "    </tr>\n",
       "    <tr>\n",
       "      <th>25%</th>\n",
       "      <td>NaN</td>\n",
       "      <td>NaN</td>\n",
       "      <td>NaN</td>\n",
       "      <td>NaN</td>\n",
       "      <td>NaN</td>\n",
       "      <td>2.275000</td>\n",
       "      <td>NaN</td>\n",
       "      <td>NaN</td>\n",
       "    </tr>\n",
       "    <tr>\n",
       "      <th>50%</th>\n",
       "      <td>NaN</td>\n",
       "      <td>NaN</td>\n",
       "      <td>NaN</td>\n",
       "      <td>NaN</td>\n",
       "      <td>NaN</td>\n",
       "      <td>28.650000</td>\n",
       "      <td>NaN</td>\n",
       "      <td>NaN</td>\n",
       "    </tr>\n",
       "    <tr>\n",
       "      <th>75%</th>\n",
       "      <td>NaN</td>\n",
       "      <td>NaN</td>\n",
       "      <td>NaN</td>\n",
       "      <td>NaN</td>\n",
       "      <td>NaN</td>\n",
       "      <td>75.800000</td>\n",
       "      <td>NaN</td>\n",
       "      <td>NaN</td>\n",
       "    </tr>\n",
       "    <tr>\n",
       "      <th>max</th>\n",
       "      <td>NaN</td>\n",
       "      <td>NaN</td>\n",
       "      <td>NaN</td>\n",
       "      <td>NaN</td>\n",
       "      <td>NaN</td>\n",
       "      <td>100.000000</td>\n",
       "      <td>NaN</td>\n",
       "      <td>NaN</td>\n",
       "    </tr>\n",
       "  </tbody>\n",
       "</table>\n",
       "</div>"
      ],
      "text/plain": [
       "       partner currency stk_flow   sitc06   geo        2014  2012  2010 \n",
       "count     1320     1320     1320     1320  1320  1320.000000  1320  1320\n",
       "unique       2        5        2        4    33          NaN   518   471\n",
       "top     EXT_EU      OTH      IMP  SITC5-8    UK          NaN  100   100 \n",
       "freq      1200      264      660      330    40          NaN   238   248\n",
       "mean       NaN      NaN      NaN      NaN   NaN    39.998712   NaN   NaN\n",
       "std        NaN      NaN      NaN      NaN   NaN    39.025858   NaN   NaN\n",
       "min        NaN      NaN      NaN      NaN   NaN     0.000000   NaN   NaN\n",
       "25%        NaN      NaN      NaN      NaN   NaN     2.275000   NaN   NaN\n",
       "50%        NaN      NaN      NaN      NaN   NaN    28.650000   NaN   NaN\n",
       "75%        NaN      NaN      NaN      NaN   NaN    75.800000   NaN   NaN\n",
       "max        NaN      NaN      NaN      NaN   NaN   100.000000   NaN   NaN"
      ]
     },
     "execution_count": 33,
     "metadata": {},
     "output_type": "execute_result"
    }
   ],
   "source": [
    "df.describe(include='all')"
   ]
  },
  {
   "cell_type": "code",
   "execution_count": 38,
   "metadata": {
    "collapsed": false
   },
   "outputs": [
    {
     "data": {
      "text/plain": [
       "90    False\n",
       "91     True\n",
       "92    False\n",
       "93    False\n",
       "94    False\n",
       "95    False\n",
       "96    False\n",
       "97    False\n",
       "98    False\n",
       "99    False\n",
       "0     False\n",
       "1     False\n",
       "2     False\n",
       "3     False\n",
       "4     False\n",
       "5     False\n",
       "6     False\n",
       "7     False\n",
       "8     False\n",
       "9     False\n",
       "10    False\n",
       "11    False\n",
       "12    False\n",
       "13    False\n",
       "14    False\n",
       "15    False\n",
       "16    False\n",
       "17    False\n",
       "18    False\n",
       "19    False\n",
       "      ...  \n",
       "9     False\n",
       "10    False\n",
       "11    False\n",
       "21    False\n",
       "22    False\n",
       "23    False\n",
       "33    False\n",
       "34    False\n",
       "35    False\n",
       "45    False\n",
       "46    False\n",
       "47    False\n",
       "57    False\n",
       "58    False\n",
       "59    False\n",
       "69    False\n",
       "70    False\n",
       "71    False\n",
       "81    False\n",
       "82    False\n",
       "83    False\n",
       "93    False\n",
       "94    False\n",
       "95    False\n",
       "5     False\n",
       "6     False\n",
       "7     False\n",
       "17    False\n",
       "18    False\n",
       "19    False\n",
       "Name: geo, dtype: bool"
      ]
     },
     "execution_count": 38,
     "metadata": {},
     "output_type": "execute_result"
    }
   ],
   "source": [
    "df.loc[df['sitc06']=='TOTAL']"
   ]
  },
  {
   "cell_type": "code",
   "execution_count": null,
   "metadata": {
    "collapsed": true
   },
   "outputs": [],
   "source": []
  }
 ],
 "metadata": {
  "kernelspec": {
   "display_name": "Python 2",
   "language": "python",
   "name": "python2"
  },
  "language_info": {
   "codemirror_mode": {
    "name": "ipython",
    "version": 2
   },
   "file_extension": ".py",
   "mimetype": "text/x-python",
   "name": "python",
   "nbconvert_exporter": "python",
   "pygments_lexer": "ipython2",
   "version": "2.7.11"
  }
 },
 "nbformat": 4,
 "nbformat_minor": 0
}
