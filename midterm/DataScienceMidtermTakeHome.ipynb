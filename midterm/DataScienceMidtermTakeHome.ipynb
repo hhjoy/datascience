{
 "cells": [
  {
   "cell_type": "markdown",
   "metadata": {},
   "source": [
    "# Take Home Midterm\n",
    "\n",
    "This is a take home midterm to be completed individually.  A copy of your finished notebook (this one) should be uploaded to the Camino \"Take-Home Midterm\" link by August 12, 2016."
   ]
  },
  {
   "cell_type": "markdown",
   "metadata": {},
   "source": [
    "## Data set\n",
    "We will be using a dataset that is already in your \"datascience/midterm/data\" folder called \"eu_revolving_loans.csv\".  This is a longitudinal recording of European Union country revolving loan percentage on a month-by-month basis for about a decade.\n",
    "\n",
    "Here is a snapshot of what this dataset looks like: ![Dataset Snapshot](data/eu.data.png \"EU Revolving Loan Data\")\n",
    "\n"
   ]
  },
  {
   "cell_type": "markdown",
   "metadata": {},
   "source": [
    "## Your work\n",
    "\n",
    "You are asked to read this dataset into a DataFrame (or whatever data structure that you deem to be useful), so that you can answer these 2 questions:\n",
    "\n",
    "* What is the average monthly \"Percent per annum\" of the revolving loans per country?\n",
    "\n",
    "> Hint: Your answer should be a single (real) number.\n",
    "\n",
    "* Which EU country has the largest + change and which country has the largest - change from January 2000 to February 2016?\n",
    "\n",
    "> Hint: Your answer should be 2 country names (one for the largest + change, and one for the largest - change)\n",
    "\n",
    "Extra: If you feel like opining on the implication for a country with a large + / - change in monthly revolving loan, please feel free to share.\n",
    "\n"
   ]
  },
  {
   "cell_type": "markdown",
   "metadata": {},
   "source": [
    "## Submission\n",
    "\n",
    "You can submit your answer to the \"Take-Home Midterm\" in the \"Assignment\" folder of Camino for this course by August 12, 2016."
   ]
  },
  {
   "cell_type": "code",
   "execution_count": null,
   "metadata": {
    "collapsed": true
   },
   "outputs": [],
   "source": []
  }
 ],
 "metadata": {
  "kernelspec": {
   "display_name": "Python 2",
   "language": "python",
   "name": "python2"
  },
  "language_info": {
   "codemirror_mode": {
    "name": "ipython",
    "version": 2
   },
   "file_extension": ".py",
   "mimetype": "text/x-python",
   "name": "python",
   "nbconvert_exporter": "python",
   "pygments_lexer": "ipython2",
   "version": "2.7.11"
  }
 },
 "nbformat": 4,
 "nbformat_minor": 0
}
