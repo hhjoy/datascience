{
 "cells": [
  {
   "cell_type": "markdown",
   "metadata": {},
   "source": [
    "# Data Science with Python"
   ]
  },
  {
   "cell_type": "markdown",
   "metadata": {},
   "source": [
    "#### Phil Mui, Summer 2016\n",
    "\n",
    "philmuiscu@gmail.com (@philmui)"
   ]
  },
  {
   "cell_type": "markdown",
   "metadata": {},
   "source": [
    "### 1.  Description\n",
    "\n",
    "Data science is one of the most in-demand skills in the world today.  Harvard Business Review recently published an article with the title: [\"Data Scientist: The Sexiest Job of the 21st Century\"](https://hbr.org/2012/10/data-scientist-the-sexiest-job-of-the-21st-century/).  This class will prepare you well to become a data scientist.\n",
    "\n",
    "Data science involves the application of scientic methodologies to extract understanding from and make predictions based on data sets from a broad range of sources. Data science involves knowledge and skills from three areas: 1) computer science, 2) math/statistics and 3) domain specific expertise.\n",
    "    \n",
    "The objective of this course is to teach the analytical mindset & programming skills relevant to data science. Students will learn the Python programming language, along with a set tools for data science in Python, including the Jupyter (IPython) Notebook, NumPy, Pandas, matplotlib, PySpark, and Tableau data visualization. Students will learn skills that cover the various phases of exploratory data analysis: importing data (web, JSON, CSV, relational data), cleaning and transforming data, algorithmic thinking, grouping and aggregation, visualization, time series, statistical modeling/prediction and communication of results. The course will utilize data from a wide range of sources and will culminate with a final project and presentation.\n",
    "\n",
    "As one of the faster growing fields today, data science has new tools coming faster than publishers can create books.  To supplement the traditional readings on data science, we will be sharing state of the art tools and environments that are used by the best practitioners today: including matplotlib and Tableau for data visualization, Spark and PySpark for big data analytics.  We aim to equip you with the latest industry thinking & toolsets to become a productive data scientist."
   ]
  },
  {
   "cell_type": "markdown",
   "metadata": {
    "collapsed": true
   },
   "source": [
    "### 2.  Learning Objectives\n",
    "\n",
    "In this course you will learn:\n",
    "* To read, write, run and debug programs in the Python programming language.\n",
    "* To use the core software packages for data science in Python.\n",
    "* To import data sets into Python using text files, HTTP, CSV, JSON files\n",
    "* To wrangle data sets by cleaning and transforming them.\n",
    "* To perform exploratory data analysis to extract insight out of data.\n",
    "* To visualize data sets for exploration and presentation purposes.\n",
    "* To build statistical models to understand and make predictions based on data.\n",
    "* To use the IPython Notebook to create and present reproducible stories involving code and data."
   ]
  },
  {
   "cell_type": "markdown",
   "metadata": {},
   "source": [
    "###  3.  Course Materials\n",
    "\n",
    "We will be using a number of resources throughout the class. \n",
    "* Camino. We will use SCU's Camino for all course discussions and to distribute course materials.\n",
    "* [Online Python Tutorial](https://www.codecademy.com/learn/python) on codecademy.com. This is an excellent, self-guided tutorial on the Python programming language. We will not be spending any time in class covering the basics of Python; instead you will learn it by completing this online tutorial. You will be required to complete\n",
    "this course by the beginning of the 3rd class meeting.\n",
    "* [Python for Data Analysis (P4DS)](https://www.amazon.com/Python-Data-Analysis-Wrangling-IPython/dp/1449319793), Wes McKinney, O’Reilly (2012). We will be doing weekly readings out of\n",
    "this book. you should have a hard or soft copy and bring it with you to class starting the second week.\n",
    "\n",
    "The following resource are optional, but highly recommended:\n",
    "* [Tableau Training Videos](http://www.tableau.com/learn/training)\n",
    "* [Spark Online Documentation](http://spark.apache.org/docs/1.6.2/)\n",
    "* [Learning the Pandas Library](https://www.amazon.com/Learning-Pandas-Library-Munging-Analysis/dp/153359824X), Matt Harrison, Hairysun (2016)"
   ]
  },
  {
   "cell_type": "markdown",
   "metadata": {
    "collapsed": true
   },
   "source": [
    "###  4.  Grading\n",
    "Your grade for this course will be determined as follows:\n",
    "* [Online Python Tutorial](https://www.codecademy.com/learn/python) on codecademy.com: 20%\n",
    "* Weekly homework: 20%\n",
    "* Midterm: 30%\n",
    "* Final project and presentation: 30%"
   ]
  },
  {
   "cell_type": "markdown",
   "metadata": {},
   "source": [
    "### 5. Course Honor Code\n",
    "\n",
    "All work submitted for grading must be the original product of the signatory individual or team members.  Unless explicitly stated otherwise, sharing of work between teams is not allowed.  You should not make use of materials connected to previous offerings of this course or related courses at other institutions.  When referencing the words or ideas of others is appropriate, you should make proper citation, but that will not excuse the lack of individual contribution.  When in doubt, check with me.\n",
    "\n",
    "Confirmed violations will result in a failing grade for the entire course, a notation in the student's academic record, and possibly suspension or even expulsion from the program.  The penalty will be non-negotiable, and will certainly not allow any recourse actions (e.g., a \"do-over\" or makeup assignment).  For group work, all members will share the consequence of any tainted submissions.\n",
    "\n",
    "Specifics of the official LSB Graduate Student Honor Code and the protocol for handling academic integrity violations are published at:\n",
    "\n",
    "https://www.scu.edu/business/graduates/academics/policies/\n"
   ]
  },
  {
   "cell_type": "markdown",
   "metadata": {},
   "source": [
    "### 6.  Software and computers\n",
    "This course will involve extensive programming and computer work, both in and out of class. You are required to bring a laptop to class each time and and have the following software installed by the first class meeting:\n",
    "\n",
    "* [Enthought Canopy Python Distribution](https://store.enthought.com/downloads/): a scientific-oriented Python distribution from Enthought. This includes EPDFree, a free base scientific distribution (with NumPy, SciPy, matplotlib, Chaco, and Jupyter) and EPD Full, a comprehensive suite of more than 100 scientific packages across many domains. EPD Full is free for academic use but has an annual subscription for non-academic users.\n",
    "\n",
    "* A text editor for your platform:\n",
    "    - For Windows, I recommend Atom.io or Sublime Text\n",
    "    - For Mac, I recommend Atom.io, nano, Text Wrangler, TextMate or Sublime Text\n",
    "    - For Linux, I recommend nano, emacs or Sublime Text\n",
    "* Chrome or Firefox browser\n"
   ]
  },
  {
   "cell_type": "markdown",
   "metadata": {},
   "source": [
    "### 7.  Tools\n",
    "In addition to the core Python language, we will cover some or all of the following open source packages for data science in Python.\n",
    "\n",
    "Core:\n",
    "* python 2.7\n",
    "* canopy python distribution\n",
    "* juypter / ipython\n",
    "* numpy\n",
    "* pandas\n",
    "\n",
    "Visualization: \n",
    "* matplotlib\n",
    "* tableau\n",
    "* ggplot\n",
    "\n",
    "Modeling and prediction:\n",
    "* pyspark\n",
    "* spark 1.6.2\n",
    "\n",
    "Development:\n",
    "* git\n",
    "* virtualenv (venv)"
   ]
  },
  {
   "cell_type": "markdown",
   "metadata": {},
   "source": [
    "### 8.  Schedule\n",
    "\n",
    "We will be meeting every Saturday starting July 16th to August 27th, 2016.  Please note that we are NOT meeting in-person on July 09 nor on September 03.  \n",
    "\n",
    "Here is our latest guide to the topics in the class -- subject to changes based on feedback throughout the class:\n",
    "\n",
    "- 07/09 (No in-person class) Python\n",
    "    - Download & install [Enthought Canopy Python Distribution](https://store.enthought.com/downloads/).\n",
    "    - Register & complete [Online Python Tutorial](https://www.codecademy.com/learn/python) on codecademy.com\n",
    "- 07/16 Introduction to Data Science\n",
    "    - (Bring your laptop with Enthought Python 2.7 environment installed)\n",
    "    - Introducing Data Science (P4DS Chapter 2)\n",
    "    - Interactive Data Science: Jupyter / IPython (P4DS Chapter 3)\n",
    "    - numpy, pandas (P4DS Chapter 4-5)\n",
    "- 07/23 Data Wrangling\n",
    "    - Data Loading, Storage, File Formats (P4DS Chapter 6)\n",
    "    - Data Clean, Transform, Merge, Reshape (P4DS Chapter 7)\n",
    "- 07/30 Data Visualization\n",
    "    - matplotlib, pandas, maps (P4DS Chapter 8)\n",
    "    - Tableau visualization & SQL databases\n",
    "- 08/06 Descriptive Statistics with Python\n",
    "    - Data summarization (P4DS Chapter 9)\n",
    "    - Midterm Exam\n",
    "- 08/13 Big Data Analytics\n",
    "    - [Spark & PySpark](http://spark.apache.org/docs/1.6.2/)\n",
    "    - Map & Reduce with Wikipedia data\n",
    "    - Web Traffic Analysis with NASA data\n",
    "- 08/20 In-Depth Topics\n",
    "    - DataFrame (P4DS Chapter 5 review)\n",
    "    - Series & Time (P4DS Chapter 10)\n",
    "    - Dealing with Missing Data\n",
    "- 08/27 Final Project Presentations\n",
    "    - Submit summary report\n",
    "- 09/03 (No in-person class) Labor Day Weekend\n"
   ]
  },
  {
   "cell_type": "markdown",
   "metadata": {},
   "source": [
    "#### Very excited to be spending this summer with you in this class!"
   ]
  },
  {
   "cell_type": "markdown",
   "metadata": {},
   "source": []
  }
 ],
 "metadata": {
  "kernelspec": {
   "display_name": "Python 2",
   "language": "python",
   "name": "python2"
  },
  "language_info": {
   "codemirror_mode": {
    "name": "ipython",
    "version": 2
   },
   "file_extension": ".py",
   "mimetype": "text/x-python",
   "name": "python",
   "nbconvert_exporter": "python",
   "pygments_lexer": "ipython2",
   "version": "2.7.11"
  }
 },
 "nbformat": 4,
 "nbformat_minor": 0
}
